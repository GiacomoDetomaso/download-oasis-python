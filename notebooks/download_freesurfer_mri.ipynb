{
 "cells": [
  {
   "cell_type": "markdown",
   "id": "ee5872c6",
   "metadata": {},
   "source": [
    "# Download Freesurfer MRI data from OASIS-3\n",
    "\n",
    "- Importing necessary libraries"
   ]
  },
  {
   "cell_type": "code",
   "execution_count": 3,
   "id": "8ede3923",
   "metadata": {},
   "outputs": [],
   "source": [
    "import sys\n",
    "import os\n",
    "from importlib import reload\n",
    "# Append the path to access custom modules\n",
    "if '../' not in sys.path:\n",
    "    sys.path.append('../')"
   ]
  },
  {
   "cell_type": "markdown",
   "id": "7c2eb302",
   "metadata": {},
   "source": [
    "- Import the class to download OASIS data:"
   ]
  },
  {
   "cell_type": "code",
   "execution_count": 4,
   "id": "eedf940a",
   "metadata": {},
   "outputs": [],
   "source": [
    "import modules.data_manager_fs as fs"
   ]
  },
  {
   "cell_type": "markdown",
   "id": "3f7ee047",
   "metadata": {},
   "source": [
    "- Instantiate the manager"
   ]
  },
  {
   "cell_type": "code",
   "execution_count": 5,
   "id": "b29ca1ac",
   "metadata": {},
   "outputs": [],
   "source": [
    "manager = fs.FreesurfersManagerMRI(\n",
    "    freesurfer_output_dir='../download'\n",
    ")"
   ]
  },
  {
   "cell_type": "markdown",
   "id": "ff45d36f",
   "metadata": {},
   "source": [
    "- Start the download"
   ]
  },
  {
   "cell_type": "code",
   "execution_count": null,
   "id": "11afa8ed",
   "metadata": {},
   "outputs": [],
   "source": [
    "manager.download(\n",
    "    subjects_file_path=os.path.join('..', 'data', 'example_freesurfer.csv'),\n",
    "    username=os.environ['nitrc_username'],\n",
    "    password=os.environ['nitrc_password'],\n",
    "    files_to_keep=['posterior_Right-Hippocampus.mgz', 'posterior_Left-Hippocampus.mgz']\n",
    ")"
   ]
  },
  {
   "cell_type": "markdown",
   "id": "b7373b8e",
   "metadata": {},
   "source": [
    "- Clean the download if needed"
   ]
  },
  {
   "cell_type": "code",
   "execution_count": null,
   "id": "9a0956cb",
   "metadata": {},
   "outputs": [],
   "source": [
    "manager.clean(\n",
    "    base_empty_dir='../empty',\n",
    "    check_dir='mri'\n",
    ")"
   ]
  }
 ],
 "metadata": {
  "kernelspec": {
   "display_name": "Python 3",
   "language": "python",
   "name": "python3"
  },
  "language_info": {
   "codemirror_mode": {
    "name": "ipython",
    "version": 3
   },
   "file_extension": ".py",
   "mimetype": "text/x-python",
   "name": "python",
   "nbconvert_exporter": "python",
   "pygments_lexer": "ipython3",
   "version": "3.12.2"
  }
 },
 "nbformat": 4,
 "nbformat_minor": 5
}
